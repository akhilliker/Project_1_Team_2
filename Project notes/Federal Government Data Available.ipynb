{
 "cells": [
  {
   "cell_type": "markdown",
   "metadata": {},
   "source": [
    "# Research on Data Available from the Federal Government\n",
    "\n",
    "## Data on Volume of Beer Sold\n",
    "* Available as PDF at https://www.ttb.gov/statistics/aggregated/revised-aggr-data-beer-2007-2017.pdf\n",
    "* 2007- 2017, broken down by state\n",
    "* Three sets of data, as sales are listed as (1) beer sold in tavern or brewery, (2) sold as bottles or cans, (3) sold as barrels or kegs. All volumes are normalized to # in barrels.\n",
    "* Changes in sales in taverns/breweries jumped in 2015/2016, which Dept. of Treasury attributes to craft brewing industry. \n",
    "* Need to find ways to convert data in PDF to something readable in Python:\n",
    "    - This site converts tables in PDF to df: https://blog.chezo.uno/tabula-py-extract-table-from-pdf-into-python-dataframe-6c7acfa5f302?gi=50b1469139f1\n",
    "    - Another option: http://stanford.edu/~mgorkove/cgi-bin/rpython_tutorials/Using_Python_to_Extract_Tables_From_PDFs.php\n",
    "    "
   ]
  },
  {
   "cell_type": "markdown",
   "metadata": {},
   "source": [
    "## Beer Sold Binned by Brewery size\n",
    "* Available as PDF or XLS from https://www.ttb.gov/beer/beer-stats.shtml\n",
    "* 2007- 2017, broken down by brewery size (defined by # of barrels produced)\n",
    "    - each year is available in a seperate spreedsheet and will have to be compiled\n",
    "    - See heading \"Number of Brewers by Production Size\"\n",
    "* Lists barrels produced, barrels removed for sale, barrels exported (aggregated for all of the breweries of that size)"
   ]
  },
  {
   "cell_type": "markdown",
   "metadata": {},
   "source": [
    "## Monthly Beer Statistics\n",
    "* Available as PDF from https://www.ttb.gov/beer/beer-stats.shtml\n",
    "    - See subheading \"Monthly Beer Statistics\"\n",
    "    - From 1984 to June 2018\n",
    "* Data includes:\n",
    "    - Barrels sold in bottles/cans for the month\n",
    "    - Barrels sold in kegs for the month\n",
    "    - Barrels sold on premises, and taxed, for the month\n",
    "    - Barrels sold on premises, tax free, for the month (\"on brewery premises\")\n",
    "    - Barrels exported, tax free, for the month\n",
    "    - Barrels sold on premises, and taxed, for the month\n",
    "    - Barrels manufactured for the month\n",
    "    - Barrels remaining on hand for the month\n",
    "    - Pounds of materials used for the month, with data for:\n",
    "        ^ Malt and malt products\n",
    "        ^ Corn and corn products\n",
    "        ^ Rice and rice products\n",
    "        ^ Barley and barley products\n",
    "        ^ Wheat and wheat products\n",
    "        ^ Sugar and syrups\n",
    "        ^ Hops (dry)\n",
    "        ^ Hops (extracts)\n",
    "            *  321,444 Pounds of hops is equivalent to 301,678 pounds of extract \n",
    "        ^ Other\n",
    "\n",
    "    \n",
    "* If monthly totals aren't needed, \"year to date\" is shown , so you could get the full year's data from Dec. report"
   ]
  },
  {
   "cell_type": "markdown",
   "metadata": {},
   "source": [
    "JSON meta data available here: https://catalog.data.gov/dataset/beer-production-and-operations-reports\n",
    "\n",
    "I haven't looked at it yet, but it may have all the data above in it. "
   ]
  },
  {
   "cell_type": "markdown",
   "metadata": {},
   "source": [
    "## Number of Breweries by State\n",
    "* Can be downloaded from: https://www.ttb.gov/foia/frl.shtml (bottom of page)\n",
    "* Data from 1984-2018\n",
    "* Available as excel file, listing # of breweries per state for each year\n"
   ]
  },
  {
   "cell_type": "markdown",
   "metadata": {},
   "source": [
    "## What could we do with this data?\n",
    "\n",
    "* Total sales in US over time\n",
    "* Total sales by state over time\n",
    "    - could see how those compared to brewery # per state\n",
    "* How sales break down among sales on premise, in bottle/can, or in kegs (nationally or by state)\n",
    "* Amounts manufactured by month, amount sold, or amount left over (is there seasonal change in these?), but this would be aggregated for all breweries in the country. \n",
    "* How amount of beer made, sold, or left over by year for breweries of different sizes\n",
    "* Materials used in beer over time.  Ex: Do the amount of hops used increase in the last 10 years (to match my assumption that hoppy beers have gotten more popular)?  Have numbers shifted in the types of grains used (maybe normalized by barrels produced)?\n",
    "* Look at growth in breweries per state over time\n",
    "* Calculate # breweries per population (like breweries per million people) \n",
    "* Rank States by brewery concentration\n",
    "* Heat map of states by brewery concentration (over time as an animation?)\n",
    "* Look for correlation between brewery # and other metrics (poverty level, average income, etc. from census)"
   ]
  },
  {
   "cell_type": "markdown",
   "metadata": {},
   "source": [
    "## Interested in compliance?\n",
    "* https://www.ttb.gov/sampling/index.shtml\n",
    "* Yearly reports detailing how many samples were tested, how many were found non-compliant (for things like alcohol %, labeling errors, etc.) "
   ]
  },
  {
   "cell_type": "markdown",
   "metadata": {},
   "source": [
    "## Tax rates for alcohol\n",
    "\n",
    "https://catalog.data.gov/harvest/de90314a-7c7d-4aff-bd84-87b134bba13d"
   ]
  },
  {
   "cell_type": "markdown",
   "metadata": {},
   "source": [
    "## Total Beer, Wine, and Alcohol Sales in Millions of Dollars for the US\n",
    "\n",
    "* Available at https://www.census.gov/econ/currentdata/dbsearch?program=MWTS&startYear=1992&endYear=2019&categories%5B%5D=4248&dataType=SM&geoLevel=US&adjusted=1&notAdjusted=1&submit=GET+DATA&releaseScheduleId=\n",
    "* Can also get inventories and inventory/sale ratio.  But these are aggregated for all three types of alcohol\n"
   ]
  },
  {
   "cell_type": "code",
   "execution_count": null,
   "metadata": {},
   "outputs": [],
   "source": []
  },
  {
   "cell_type": "code",
   "execution_count": null,
   "metadata": {},
   "outputs": [],
   "source": []
  },
  {
   "cell_type": "code",
   "execution_count": null,
   "metadata": {},
   "outputs": [],
   "source": []
  },
  {
   "cell_type": "code",
   "execution_count": null,
   "metadata": {},
   "outputs": [],
   "source": []
  },
  {
   "cell_type": "code",
   "execution_count": null,
   "metadata": {},
   "outputs": [],
   "source": []
  },
  {
   "cell_type": "code",
   "execution_count": null,
   "metadata": {},
   "outputs": [],
   "source": []
  },
  {
   "cell_type": "code",
   "execution_count": null,
   "metadata": {},
   "outputs": [],
   "source": []
  },
  {
   "cell_type": "code",
   "execution_count": null,
   "metadata": {},
   "outputs": [],
   "source": []
  }
 ],
 "metadata": {
  "kernelspec": {
   "display_name": "Python 3",
   "language": "python",
   "name": "python3"
  },
  "language_info": {
   "codemirror_mode": {
    "name": "ipython",
    "version": 3
   },
   "file_extension": ".py",
   "mimetype": "text/x-python",
   "name": "python",
   "nbconvert_exporter": "python",
   "pygments_lexer": "ipython3",
   "version": "3.7.1"
  }
 },
 "nbformat": 4,
 "nbformat_minor": 2
}
