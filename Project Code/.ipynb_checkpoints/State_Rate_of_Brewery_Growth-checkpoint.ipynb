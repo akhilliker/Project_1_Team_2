{
 "cells": [
  {
   "cell_type": "markdown",
   "metadata": {},
   "source": [
    "## Code started by Angie\n",
    "\n",
    "### Question:\n",
    "* What is growth rate of breweries over time for each state?\n",
    "* How does growth rate change when normalized to population, land mass, or average income?\n",
    "\n",
    "### Data Sources:\n",
    "* Brewery number per state per year: https://www.ttb.gov/foia/frl.shtml (file name q4_brewery_count_by_state_1984_dec2018.xls)\n",
    "* Population per state per year: \n",
    "* Size of each state in square miles:\n",
    "* Average income per state per year:"
   ]
  },
  {
   "cell_type": "code",
   "execution_count": null,
   "metadata": {},
   "outputs": [],
   "source": []
  }
 ],
 "metadata": {
  "kernelspec": {
   "display_name": "Python 3",
   "language": "python",
   "name": "python3"
  },
  "language_info": {
   "codemirror_mode": {
    "name": "ipython",
    "version": 3
   },
   "file_extension": ".py",
   "mimetype": "text/x-python",
   "name": "python",
   "nbconvert_exporter": "python",
   "pygments_lexer": "ipython3",
   "version": "3.7.1"
  }
 },
 "nbformat": 4,
 "nbformat_minor": 2
}
